{
 "cells": [
  {
   "cell_type": "markdown",
   "id": "3219a631",
   "metadata": {},
   "source": [
    "Q1. Create one variable containing following type of data:\n",
    "(i) string\n",
    "(ii) list\n",
    "(iii) float\n",
    "(iv) tuple"
   ]
  },
  {
   "cell_type": "code",
   "execution_count": 1,
   "id": "9dffae78",
   "metadata": {},
   "outputs": [
    {
     "name": "stdout",
     "output_type": "stream",
     "text": [
      "albert \n",
      "\n",
      "[10, 30.0, 'alfred', (5+15j)] \n",
      "\n",
      "4.45 \n",
      "\n",
      "(10, 30.0, 'alfred', (5+15j))\n"
     ]
    }
   ],
   "source": [
    "# string\n",
    "a = \"albert\"\n",
    "print(a,\"\\n\")\n",
    "# list\n",
    "b = [10,30.0, \"alfred\", 5+15j]\n",
    "print(b,\"\\n\")\n",
    "# float\n",
    "c= 4.45\n",
    "print(c,\"\\n\")\n",
    "# tuple\n",
    "d = (10,30.0, \"alfred\", 5+15j)\n",
    "print(d)"
   ]
  },
  {
   "cell_type": "markdown",
   "id": "fb1f4ed8",
   "metadata": {},
   "source": [
    "#### Q2. Given are some following variables containing data:\n",
    "##### (i) var1 = ‘ ‘\n",
    "##### (iii) var3 = [ ‘DS’ , ’ML’ , ‘Python’ ]\n",
    "##### (iv) var4 = 1.\n",
    "What will be the data type of the above given variable."
   ]
  },
  {
   "cell_type": "code",
   "execution_count": 2,
   "id": "8aef8e73",
   "metadata": {},
   "outputs": [
    {
     "name": "stdout",
     "output_type": "stream",
     "text": [
      "<class 'str'>\n",
      "<class 'str'>\n",
      "<class 'list'>\n",
      "<class 'float'>\n"
     ]
    }
   ],
   "source": [
    "var1 = \" \"\n",
    "\n",
    "print(type(var1))\n",
    "\n",
    "var2 = \"[ DS , ML , Python]\"\n",
    "print(type(var2))\n",
    "\n",
    "var3 = [\"DS\" , \"ML\" , \"PYTHON\" ]\n",
    "print(type(var3))\n",
    "\n",
    "var4 = 1.\n",
    "print(type(var4))"
   ]
  },
  {
   "cell_type": "markdown",
   "id": "73412475",
   "metadata": {},
   "source": [
    "Q3. Explain the use of the following operators using an example:\n",
    " #### (i) / = Division - used to divide a numerator by a denumerator\n",
    " #### (ii) % = used to find the reminder value after a division\n",
    " #### (iii) // = Floor division used to rounds the result down to the nearest whole number\n",
    "  #### (iv) ** = power or exponential sign raised a number to power of the exponent"
   ]
  },
  {
   "cell_type": "markdown",
   "id": "f26ff93e",
   "metadata": {},
   "source": [
    "#### Q4. Create a list of length 10 of your choice containing multiple types of data. Using for loop print the element and its data type."
   ]
  },
  {
   "cell_type": "code",
   "execution_count": 3,
   "id": "95721e6a",
   "metadata": {},
   "outputs": [
    {
     "name": "stdout",
     "output_type": "stream",
     "text": [
      "23 <class 'int'>\n",
      "45 <class 'int'>\n",
      "54 <class 'int'>\n",
      "67 <class 'int'>\n",
      "alfred <class 'str'>\n",
      "men <class 'str'>\n",
      "90 <class 'int'>\n",
      "95.5 <class 'float'>\n",
      "(5+119j) <class 'complex'>\n",
      "pwpython <class 'str'>\n"
     ]
    }
   ],
   "source": [
    "a = [23,45,54,67,\"alfred\", \"men\", 90, 95.5, 5+119j, \"pwpython\"]\n",
    "\n",
    "for items in a:\n",
    "    print(items,type(items))"
   ]
  },
  {
   "cell_type": "markdown",
   "id": "921c7f1c",
   "metadata": {},
   "source": [
    "### Q5. Using a while loop, verify if the number A is purely divisible by number B and if so then how many times it can be divisible."
   ]
  },
  {
   "cell_type": "code",
   "execution_count": 4,
   "id": "354cabe8",
   "metadata": {},
   "outputs": [
    {
     "name": "stdout",
     "output_type": "stream",
     "text": [
      "A is not divisible by B!\n"
     ]
    }
   ],
   "source": [
    "A = 20  # Let's say we have 20 candies\n",
    "B = 3   # And we want to divide them into groups of 3\n",
    "\n",
    "count = 0  # We'll use this variable to count how many times A can be divided by B\n",
    "\n",
    "while A >= B:  # While A is greater than or equal to B\n",
    "    A = A - B  # Subtract B from A\n",
    "    count = count + 1  # Increase the count by 1\n",
    "\n",
    "if A == 0:  # If A becomes exactly 0, it means A is divisible by B\n",
    "    print(\"A is divisible by B!\")\n",
    "    print(\"A can be divided\", count, \"times by B\")\n",
    "else:\n",
    "    print(\"A is not divisible by B!\")"
   ]
  },
  {
   "cell_type": "markdown",
   "id": "67810805",
   "metadata": {},
   "source": [
    "#### Q6.Create a list containing 25 int type data. Using for loop and if-else condition print if the element is divisible by 3 or not."
   ]
  },
  {
   "cell_type": "code",
   "execution_count": 5,
   "id": "0f32444b",
   "metadata": {},
   "outputs": [
    {
     "name": "stdout",
     "output_type": "stream",
     "text": [
      "2 is not divisible by 3.\n",
      "9 is divisible by 3!\n",
      "12 is divisible by 3!\n",
      "7 is not divisible by 3.\n",
      "15 is divisible by 3!\n",
      "20 is not divisible by 3.\n",
      "33 is divisible by 3!\n",
      "5 is not divisible by 3.\n",
      "18 is divisible by 3!\n",
      "22 is not divisible by 3.\n",
      "27 is divisible by 3!\n",
      "11 is not divisible by 3.\n",
      "30 is divisible by 3!\n",
      "8 is not divisible by 3.\n",
      "17 is not divisible by 3.\n",
      "21 is divisible by 3!\n",
      "36 is divisible by 3!\n",
      "14 is not divisible by 3.\n",
      "25 is not divisible by 3.\n",
      "6 is divisible by 3!\n",
      "16 is not divisible by 3.\n",
      "3 is divisible by 3!\n",
      "10 is not divisible by 3.\n",
      "13 is not divisible by 3.\n",
      "19 is not divisible by 3.\n"
     ]
    }
   ],
   "source": [
    "numbers = [2, 9, 12, 7, 15, 20, 33, 5, 18, 22, 27, 11, 30, 8, 17, 21, 36, 14, 25, 6, 16, 3, 10, 13, 19]\n",
    "\n",
    "for num in numbers:  # For each number in the list\n",
    "    if num % 3 == 0:  # If the number is divisible by 3 (no leftovers after dividing by 3)\n",
    "        print(num, \"is divisible by 3!\")\n",
    "    else:\n",
    "        print(num, \"is not divisible by 3.\")"
   ]
  },
  {
   "cell_type": "markdown",
   "id": "993ee10b",
   "metadata": {},
   "source": [
    "#### Q7. What do you understand about mutable and immutable data types? Give examples for both showing this property."
   ]
  },
  {
   "cell_type": "markdown",
   "id": "64e73de5",
   "metadata": {},
   "source": [
    "Immutable Data Type: Strings\n",
    "Strings in Python are immutable. Once a string is created, its individual characters cannot be modified. "
   ]
  },
  {
   "cell_type": "code",
   "execution_count": 6,
   "id": "575d6739",
   "metadata": {},
   "outputs": [
    {
     "ename": "TypeError",
     "evalue": "'str' object does not support item assignment",
     "output_type": "error",
     "traceback": [
      "\u001b[1;31m---------------------------------------------------------------------------\u001b[0m",
      "\u001b[1;31mTypeError\u001b[0m                                 Traceback (most recent call last)",
      "\u001b[1;32m~\\AppData\\Local\\Temp\\ipykernel_4964\\3029853418.py\u001b[0m in \u001b[0;36m<module>\u001b[1;34m\u001b[0m\n\u001b[0;32m      1\u001b[0m \u001b[0mname\u001b[0m \u001b[1;33m=\u001b[0m \u001b[1;34m\"Alice\"\u001b[0m\u001b[1;33m\u001b[0m\u001b[1;33m\u001b[0m\u001b[0m\n\u001b[1;32m----> 2\u001b[1;33m \u001b[0mname\u001b[0m\u001b[1;33m[\u001b[0m\u001b[1;36m0\u001b[0m\u001b[1;33m]\u001b[0m \u001b[1;33m=\u001b[0m \u001b[1;34m\"B\"\u001b[0m  \u001b[1;31m# This will result in an error because strings are immutable\u001b[0m\u001b[1;33m\u001b[0m\u001b[1;33m\u001b[0m\u001b[0m\n\u001b[0m",
      "\u001b[1;31mTypeError\u001b[0m: 'str' object does not support item assignment"
     ]
    }
   ],
   "source": [
    "name = \"Alice\"\n",
    "name[0] = \"B\"  # This will result in an error because strings are immutable"
   ]
  },
  {
   "cell_type": "markdown",
   "id": "d3272bb2",
   "metadata": {},
   "source": [
    "Mutable data type: list in python are mutable, individual items in a list can be modified"
   ]
  },
  {
   "cell_type": "code",
   "execution_count": 7,
   "id": "d675464c",
   "metadata": {},
   "outputs": [
    {
     "name": "stdout",
     "output_type": "stream",
     "text": [
      "[12, 'alfred', 'mike', 45, 23]\n"
     ]
    }
   ],
   "source": [
    "ab = [12, \"alfred\", 90, 45,23]\n",
    "\n",
    "ab[2]= \"mike\"\n",
    "print(ab)"
   ]
  },
  {
   "cell_type": "code",
   "execution_count": null,
   "id": "34c2a509",
   "metadata": {},
   "outputs": [],
   "source": []
  }
 ],
 "metadata": {
  "kernelspec": {
   "display_name": "Python 3 (ipykernel)",
   "language": "python",
   "name": "python3"
  },
  "language_info": {
   "codemirror_mode": {
    "name": "ipython",
    "version": 3
   },
   "file_extension": ".py",
   "mimetype": "text/x-python",
   "name": "python",
   "nbconvert_exporter": "python",
   "pygments_lexer": "ipython3",
   "version": "3.9.13"
  }
 },
 "nbformat": 4,
 "nbformat_minor": 5
}
